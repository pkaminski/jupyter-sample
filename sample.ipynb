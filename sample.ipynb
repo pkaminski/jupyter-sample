{
 "cells": [
  {
   "cell_type": "code",
   "execution_count": 1,
   "id": "192938eb-b89a-4467-9b2b-cd9a4d5aea2b",
   "metadata": {},
   "outputs": [],
   "source": [
    "import seaborn as sns\n",
    "import pandas as pd\n",
    "import matplotlib.pyplot as plt"
   ]
  },
  {
   "cell_type": "code",
   "execution_count": 2,
   "id": "f0b7aab8-a68b-4a30-a9f9-89a9e2486ccc",
   "metadata": {},
   "outputs": [],
   "source": [
    "tips = sns.load_dataset(\"tips\")"
   ]
  },
  {
   "cell_type": "code",
   "execution_count": 3,
   "id": "dd776499-1487-4072-a21d-0639db96e1b8",
   "metadata": {},
   "outputs": [
    {
     "data": {
      "text/html": [
       "<div>\n",
       "<style scoped>\n",
       "    .dataframe tbody tr th:only-of-type {\n",
       "        vertical-align: middle;\n",
       "    }\n",
       "\n",
       "    .dataframe tbody tr th {\n",
       "        vertical-align: top;\n",
       "    }\n",
       "\n",
       "    .dataframe thead th {\n",
       "        text-align: right;\n",
       "    }\n",
       "</style>\n",
       "<table border=\"1\" class=\"dataframe\">\n",
       "  <thead>\n",
       "    <tr style=\"text-align: right;\">\n",
       "      <th></th>\n",
       "      <th>total_bill</th>\n",
       "      <th>tip</th>\n",
       "      <th>sex</th>\n",
       "      <th>smoker</th>\n",
       "      <th>day</th>\n",
       "      <th>time</th>\n",
       "      <th>size</th>\n",
       "    </tr>\n",
       "  </thead>\n",
       "  <tbody>\n",
       "    <tr>\n",
       "      <th>0</th>\n",
       "      <td>16.99</td>\n",
       "      <td>1.01</td>\n",
       "      <td>Female</td>\n",
       "      <td>No</td>\n",
       "      <td>Sun</td>\n",
       "      <td>Dinner</td>\n",
       "      <td>2</td>\n",
       "    </tr>\n",
       "    <tr>\n",
       "      <th>1</th>\n",
       "      <td>10.34</td>\n",
       "      <td>1.66</td>\n",
       "      <td>Male</td>\n",
       "      <td>No</td>\n",
       "      <td>Sun</td>\n",
       "      <td>Dinner</td>\n",
       "      <td>3</td>\n",
       "    </tr>\n",
       "    <tr>\n",
       "      <th>2</th>\n",
       "      <td>21.01</td>\n",
       "      <td>3.50</td>\n",
       "      <td>Male</td>\n",
       "      <td>No</td>\n",
       "      <td>Sun</td>\n",
       "      <td>Dinner</td>\n",
       "      <td>3</td>\n",
       "    </tr>\n",
       "    <tr>\n",
       "      <th>3</th>\n",
       "      <td>23.68</td>\n",
       "      <td>3.31</td>\n",
       "      <td>Male</td>\n",
       "      <td>No</td>\n",
       "      <td>Sun</td>\n",
       "      <td>Dinner</td>\n",
       "      <td>2</td>\n",
       "    </tr>\n",
       "    <tr>\n",
       "      <th>4</th>\n",
       "      <td>24.59</td>\n",
       "      <td>3.61</td>\n",
       "      <td>Female</td>\n",
       "      <td>No</td>\n",
       "      <td>Sun</td>\n",
       "      <td>Dinner</td>\n",
       "      <td>4</td>\n",
       "    </tr>\n",
       "    <tr>\n",
       "      <th>...</th>\n",
       "      <td>...</td>\n",
       "      <td>...</td>\n",
       "      <td>...</td>\n",
       "      <td>...</td>\n",
       "      <td>...</td>\n",
       "      <td>...</td>\n",
       "      <td>...</td>\n",
       "    </tr>\n",
       "    <tr>\n",
       "      <th>239</th>\n",
       "      <td>29.03</td>\n",
       "      <td>5.92</td>\n",
       "      <td>Male</td>\n",
       "      <td>No</td>\n",
       "      <td>Sat</td>\n",
       "      <td>Dinner</td>\n",
       "      <td>3</td>\n",
       "    </tr>\n",
       "    <tr>\n",
       "      <th>240</th>\n",
       "      <td>27.18</td>\n",
       "      <td>2.00</td>\n",
       "      <td>Female</td>\n",
       "      <td>Yes</td>\n",
       "      <td>Sat</td>\n",
       "      <td>Dinner</td>\n",
       "      <td>2</td>\n",
       "    </tr>\n",
       "    <tr>\n",
       "      <th>241</th>\n",
       "      <td>22.67</td>\n",
       "      <td>2.00</td>\n",
       "      <td>Male</td>\n",
       "      <td>Yes</td>\n",
       "      <td>Sat</td>\n",
       "      <td>Dinner</td>\n",
       "      <td>2</td>\n",
       "    </tr>\n",
       "    <tr>\n",
       "      <th>242</th>\n",
       "      <td>17.82</td>\n",
       "      <td>1.75</td>\n",
       "      <td>Male</td>\n",
       "      <td>No</td>\n",
       "      <td>Sat</td>\n",
       "      <td>Dinner</td>\n",
       "      <td>2</td>\n",
       "    </tr>\n",
       "    <tr>\n",
       "      <th>243</th>\n",
       "      <td>18.78</td>\n",
       "      <td>3.00</td>\n",
       "      <td>Female</td>\n",
       "      <td>No</td>\n",
       "      <td>Thur</td>\n",
       "      <td>Dinner</td>\n",
       "      <td>2</td>\n",
       "    </tr>\n",
       "  </tbody>\n",
       "</table>\n",
       "<p>244 rows � 7 columns</p>\n",
       "</div>"
      ],
      "text/plain": [
       "     total_bill   tip     sex smoker   day    time  size\n",
       "0         16.99  1.01  Female     No   Sun  Dinner     2\n",
       "1         10.34  1.66    Male     No   Sun  Dinner     3\n",
       "2         21.01  3.50    Male     No   Sun  Dinner     3\n",
       "3         23.68  3.31    Male     No   Sun  Dinner     2\n",
       "4         24.59  3.61  Female     No   Sun  Dinner     4\n",
       "..          ...   ...     ...    ...   ...     ...   ...\n",
       "239       29.03  5.92    Male     No   Sat  Dinner     3\n",
       "240       27.18  2.00  Female    Yes   Sat  Dinner     2\n",
       "241       22.67  2.00    Male    Yes   Sat  Dinner     2\n",
       "242       17.82  1.75    Male     No   Sat  Dinner     2\n",
       "243       18.78  3.00  Female     No  Thur  Dinner     2\n",
       "\n",
       "[244 rows x 7 columns]"
      ]
     },
     "execution_count": 3,
     "metadata": {},
     "output_type": "execute_result"
    }
   ],
   "source": [
    "tips"
   ]
  },
  {
   "cell_type": "code",
   "execution_count": 4,
   "id": "b32d5fb9-0c6e-4c77-9716-1690a068d676",
   "metadata": {},
   "outputs": [
    {
     "data": {
      "text/plain": [
       "<AxesSubplot:xlabel='total_bill', ylabel='tip'>"
      ]
     },
     "execution_count": 4,
     "metadata": {},
     "output_type": "execute_result"
    },
    {
     "data": {
      "image/png": "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\n",
      "text/plain": [
       "<Figure size 432x288 with 1 Axes>"
      ]
     },
     "metadata": {
      "needs_background": "light"
     },
     "output_type": "display_data"
    }
   ],
   "source": [
    "tips.plot(kind=\"scatter\", x=\"total_bill\", y=\"tip\")"
   ]
  },
  {
   "cell_type": "code",
   "execution_count": 1,
   "metadata": {},
   "outputs": [
    {
     "data": {
      "image/jpeg": "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\n",
      "text/html": [
       "\n",
       "        <iframe\n",
       "            width=\"400\"\n",
       "            height=\"300\"\n",
       "            src=\"https://www.youtube.com/embed/Z2eaaBGDOy4\"\n",
       "            frameborder=\"0\"\n",
       "            allowfullscreen\n",
       "        ></iframe>\n",
       "        "
      ],
      "text/plain": [
       "<IPython.lib.display.YouTubeVideo at 0x298aa7288b0>"
      ]
     },
     "execution_count": 1,
     "metadata": {},
     "output_type": "execute_result"
    }
   ],
   "source": [
    "from IPython.display import YouTubeVideo\n",
    "\n",
    "YouTubeVideo('Z2eaaBGDOy4')"
   ]
  },

  {
   "cell_type": "markdown",
   "metadata": {},
   "source": [
    "\\begin{equation*}\n",
    "\\newcommand{Dx}{\\Delta x}\n",
    "\\newcommand{Dt}{\\Delta t}\n",
    "\\newcommand{imh}{{i-1/2}}\n",
    "\\newcommand{iph}{{i+1/2}}\n",
    "\\end{equation*}\n",
    "Many models of wave phenomena are governed by *hyperbolic conservation laws*.  In this short course, we will learn about hyperbolic conservation laws and their numerical solution."
   ]
  },

  {
   "cell_type": "markdown",
   "metadata": {},
   "source": [
    "For simplicity, we'll suppose that we wish to solve the advection equation on the interval $[0,1]$.  We introduce a set of equally spaced *grid cells* of width $\\Dx$, and write $x_i$ to mean the center of cell $i$.  Thus the first cell is the interval $[0,\\Dx]$ and $x_1=\\Dx/2$.  We will also write $x_\\imh$ or $x_\\iph$ to denote the left or right boundary of cell $i$, respectively.\n",
    "\n",
    "We write $Q_i$ to denote the *average* value of the solution over cell $i$:\n",
    "\n",
    "$$Q_i = \\frac{1}{\\Dx} \\int_{x_\\imh}^{x_\\iph} q \\ dx.$$\n",
    "\n",
    "The simplest finite volume method is obtained by supposing that the solution is actually *equal* to $Q_i$ over all of cell $i$."
   ]
  },

  {
   "cell_type": "markdown",
   "metadata": {},
   "source": [
    "![](./finite_volume.png)"
   ]
  },

 ],
 "metadata": {
  "kernelspec": {
   "display_name": "Python 3 (ipykernel)",
   "language": "python",
   "name": "python3"
  },
  "language_info": {
   "codemirror_mode": {
    "name": "ipython",
    "version": 3n
   },
   "file_extension": ".py",
   "mimetype": "text/x-python",
   "name": "python",
   "nbconvert_exporter": "python",
   "pygments_lexer": "ipython3",
   "version": "3.9.7"
  }
 },
 "nbformat": 4,
 "nbformat_minor": 5
}